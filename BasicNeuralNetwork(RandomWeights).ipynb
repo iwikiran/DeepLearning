{
    "nbformat_minor": 1, 
    "cells": [
        {
            "execution_count": 95, 
            "cell_type": "code", 
            "metadata": {}, 
            "outputs": [
                {
                    "output_type": "stream", 
                    "name": "stdout", 
                    "text": "Sliced elements are:[1, 12, 35, 35]\nNumpy array is:[ 1 12 35 35]\nrandom weight vector for layer1 is:[[ 0.79117754  0.35911795  0.06491095  0.30570424]\n [ 0.42124724  0.21819125  0.76667879  0.82949402]\n [ 0.89592676  0.61672662  0.59740269  0.09185441]\n [ 0.05290295  0.19794273  0.90465027  0.44182223]]\nLayer 1:[[ 1.  1.  1.  1.]\n [ 1.  1.  1.  1.]\n [ 1.  1.  1.  1.]\n [ 1.  1.  1.  1.]]\nLayer 2:[[ 0.89671579  0.80090792  0.91162525  0.84142576]\n [ 0.89671579  0.80090792  0.91162525  0.84142576]\n [ 0.89671579  0.80090792  0.91162525  0.84142576]\n [ 0.89671579  0.80090792  0.91162525  0.84142576]]\n"
                }
            ], 
            "source": "import math\nimport numpy as np\n\ndef segmoid(x):  # Segmoid is manily used to return binary values either 0 or 1 for continuous values ..\n    return 1/(1+math.exp(-x))\n\ndp1={'no':100,'maxtemp':35,'mintemp':35,'maxvibration':12, 'aspierity':0.32}\ndp2={'no':100,'maxtemp':46,'mintemp':35,'maxvibration':21, 'aspierity':0.34}\ndp3={'no':100,'maxtemp':56,'mintemp':46,'maxvibration':3412,'aspierity':12.42}\ndp4={'no':100,'maxtemp':58,'mintemp':48,'maxvibration':3542,'aspierity':13.43}\n\nx1=[v for k,v in dp1.items()][2:4]+[v for k,v in dp1.items()][0:1]\n\n# we have to add 1 to the begining of the x vector to support the bias\nx1=[1]+[v for k,v in dp1.items()][2:4]+[v for k,v in dp1.items()][0:1]\nx2=[1]+[v for k,v in dp1.items()][2:4]+[v for k,v in dp2.items()][0:1]\nx3=[1]+[v for k,v in dp1.items()][2:4]+[v for k,v in dp3.items()][0:1]\nx4=[1]+[v for k,v in dp1.items()][2:4]+[v for k,v in dp4.items()][0:1]\nprint(\"Sliced elements are:\"+str(x1))\n\n# native python arrays are slow and also will not support linear algebra operations \nx1=np.array(x1)\nx2=np.array(x2)\nx3=np.array(x3)\nx4=np.array(x4)\nprint(\"Numpy array is:\"+str(x1))\n\n#w_layer1=np.random.rand(4) # this is a vector \nw_layer1=np.random.rand(4,4) # this is a matrix \nprint(\"random weight vector for layer1 is:\"+str(w_layer1))\ndef segmoid(x):\n    return 1/(1+np.exp(-x))\ndef layer1(x):\n    return segmoid(x.dot(w_layer1)) # segmoid will be useful to tell the values between 0 and 1\n\ndataset=np.array([x1,x2,x3,x4])\n\nfirstlayer_result=layer1(dataset) # here we will not get any useful result as we have not trained weight vector and as we put random values for weight vector\n\nprint(\"Layer 1:\"+str(firstlayer_result))\nw_layer2=np.random.rand(4,4) # this is a matrix \n\ndef layer2(x):\n    return segmoid(x.dot(w_layer1)) # segmoid will be useful to tell the values between 0 and 1\n\nprint(\"Layer 2:\"+str(layer2(firstlayer_result)))\n"
        }, 
        {
            "execution_count": null, 
            "cell_type": "code", 
            "metadata": {}, 
            "outputs": [], 
            "source": ""
        }
    ], 
    "metadata": {
        "kernelspec": {
            "display_name": "Python 3.5 with Spark 2.1", 
            "name": "python3-spark21", 
            "language": "python"
        }, 
        "language_info": {
            "mimetype": "text/x-python", 
            "nbconvert_exporter": "python", 
            "version": "3.5.4", 
            "name": "python", 
            "file_extension": ".py", 
            "pygments_lexer": "ipython3", 
            "codemirror_mode": {
                "version": 3, 
                "name": "ipython"
            }
        }
    }, 
    "nbformat": 4
}
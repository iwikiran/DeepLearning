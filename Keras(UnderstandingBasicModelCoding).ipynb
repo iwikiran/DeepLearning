{
    "nbformat_minor": 1, 
    "cells": [
        {
            "execution_count": 6, 
            "cell_type": "code", 
            "metadata": {}, 
            "outputs": [], 
            "source": "from keras.losses import mean_squared_error  # importing loss function to calculate the loss(cost)\nfrom keras.optimizers import SGD  # not only SGD we can choose whatever keras optimizer to use \n# creating SGD (stochastic Gradient descent) object to find out minimum cost for all weights in layer\nsgd=SGD(lr=0.01, # lr is learning rate \n       decay=1e-6, # to decrease the learning rate after each parameter update\n       momentum=0.9)    \n\nmodel.compile(loss=mean_squared_error,optimizer=sgd)  # sepecified loss function only \n\n# After compiling model we just need to do below steps \n\n# fit a model to train data \nmodel.fit(x_train,y_train,batch_size=32,epochs=10,validation_data=(x_val,y_val)) # x_train,y_train are training datasets for model and x_val,y_val are validation datasets and epochs are number of iterations that neural network should be trained for each batch \n\n#Evaluate a model on test data \nevaluate(x_test,y_test,batch_size=32)\n\n#predict labels \npredict(x_test,batch_size=32)\n\n\n\n    "
        }, 
        {
            "execution_count": null, 
            "cell_type": "code", 
            "metadata": {}, 
            "outputs": [], 
            "source": ""
        }
    ], 
    "metadata": {
        "kernelspec": {
            "display_name": "Python 3.5 with Spark 2.1", 
            "name": "python3-spark21", 
            "language": "python"
        }, 
        "language_info": {
            "mimetype": "text/x-python", 
            "nbconvert_exporter": "python", 
            "version": "3.5.4", 
            "name": "python", 
            "file_extension": ".py", 
            "pygments_lexer": "ipython3", 
            "codemirror_mode": {
                "version": 3, 
                "name": "ipython"
            }
        }
    }, 
    "nbformat": 4
}
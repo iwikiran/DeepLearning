{
    "nbformat_minor": 1, 
    "cells": [
        {
            "execution_count": 6, 
            "cell_type": "code", 
            "metadata": {}, 
            "outputs": [], 
            "source": "from keras.datasets import mnist  # mnist datasets contains 60,000 train sample and 10,000 sample for tests and each individual sample is 28*28 pixels\nfrom keras.utils import to_categorical \nfrom keras.models import Sequential \nfrom keras.layers import Dense, Dropout \n\nbatch_size = 128  # batch_size will be used in forward pass and also for predictions \nnum_classes = 10  # number of output labels or classes in output layer \nepochs = 20  # we are going to train the neural network for 20 epochs in total \n\n# loading data \n(x_train,y_train),(x_test,y_test) = minst.load_data() # load data method will retreive training dataset and testinng dataset as well \n\n# as x_train,X-test contains only 28*28 pixel images.\n\n# Data preprocessing \n# Flattening 60000 training images to 60000 784 vectors to feed them into dense layer \nx_train=x_train.reshape(60000,784)\n# Flattening 10000 training images to 60000 784 vectors \nx_test=x_test.reshape(10000,784)\nx_train=x_train.astype('float32') \nx_test=x_test.astype('float32')\n# to make 0 to 255 values to be lied in 0 to 1 \n\nx_train /= 255\nx_test /=255\n\n# onehot encoding for output labels \ny_train=to_categorical(y_train,num_classes) # functionality:  if we have label with the number 0 on it, this is going to be transformed into a vector of length 10 that has all zeros but 1 at 0th place in a vector as label is 0\ny_test=to_categorical(y_test,num_classes)\n\n# Defining and compiling your model\nmodel=Sequential()\nmodel.add(Dense(512, activation=relu, input_shape=(784,))) # First layer only # input_shape should be provided for first layer only input_shape is nothing but length of input vectors eg: 784 \nmodel.add(Dropout(0.2)) # to drop the 20 percentage of neurons in the first layer \nmodel.add(Dense(512, activation=relu))\nmodel.add(Dropout(0.2)) # to drop the 20 percentage of neurons in the second layer \nmodel.add(Dense(num_classes,activation='softmax'))\n\nmodel.summary()\n\nmodel.compile(loss=categorical_crossentropy,\n             optimizer=sgd,\n             metrics=[accuracy])   # Compiling model by specifying loss(cost) function and loss optimizer as sgd \n\n\n# Running and evaluating your model \nmodel.fit(x_train,y_train,batch_size=batch_size,epochs=epochs,validation_data=(x_test,y_test))  # Training model \n\n# Evaluating or Testing model \nscore=model.evaluate(x_test,y_test,verbose=0)\n\nprint('Test loss:', score[0])\nprint('Test accuracy:', score[1])\n"
        }
    ], 
    "metadata": {
        "kernelspec": {
            "display_name": "Python 3.5 with Spark 2.1", 
            "name": "python3-spark21", 
            "language": "python"
        }, 
        "language_info": {
            "mimetype": "text/x-python", 
            "nbconvert_exporter": "python", 
            "version": "3.5.4", 
            "name": "python", 
            "file_extension": ".py", 
            "pygments_lexer": "ipython3", 
            "codemirror_mode": {
                "version": 3, 
                "name": "ipython"
            }
        }
    }, 
    "nbformat": 4
}
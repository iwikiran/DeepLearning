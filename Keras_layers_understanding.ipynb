{
    "nbformat_minor": 1, 
    "cells": [
        {
            "execution_count": 6, 
            "cell_type": "code", 
            "metadata": {}, 
            "outputs": [], 
            "source": "from keras.layers import Dense # importing Dense layer from the keras.layers \nfrom keras.layesr import Dropout # importing Dropout layer from the keras.layers \n\n# creating example Dense layer will have following parameters \nDense(units,   # units for number of output neurons (i.e it will be equal to number of neurons)\n     activation=None, # Activation function by name like tanh,segmoid,softmax,ReLu \n     use_bias=True,  # should not touch this keyword until unless you really need it\n     kernel_initializer=glorot_uniform, # here kernel means weights, so weights initilizer is glorot_uniform\n     bias_initializer=zeros) # we should not touch  kernel_initializer,bias_initializer \n\nDropout(rate,  # rate ranges from 0 to 1 which indicates the fraction of units(neurons) should be dropped in each forward pass.\n       seed=None)"
        }, 
        {
            "execution_count": null, 
            "cell_type": "code", 
            "metadata": {}, 
            "outputs": [], 
            "source": ""
        }
    ], 
    "metadata": {
        "kernelspec": {
            "display_name": "Python 3.5 with Spark 2.1", 
            "name": "python3-spark21", 
            "language": "python"
        }, 
        "language_info": {
            "mimetype": "text/x-python", 
            "nbconvert_exporter": "python", 
            "version": "3.5.4", 
            "name": "python", 
            "file_extension": ".py", 
            "pygments_lexer": "ipython3", 
            "codemirror_mode": {
                "version": 3, 
                "name": "ipython"
            }
        }
    }, 
    "nbformat": 4
}
{
    "nbformat_minor": 1, 
    "cells": [
        {
            "execution_count": 26, 
            "cell_type": "code", 
            "metadata": {}, 
            "outputs": [
                {
                    "execution_count": 26, 
                    "metadata": {}, 
                    "data": {
                        "text/plain": "13"
                    }, 
                    "output_type": "execute_result"
                }
            ], 
            "source": "dp1={'no':100,'maxtemp':35,'mintemp':35,'maxvibration':12, 'asperity':0.32}\ndp2={'no':100,'maxtemp':46,'mintemp':35,'maxvibration':21, 'asperity':0.34}\ndp3={'no':100,'maxtemp':56,'mintemp':46,'maxvibration':3412,'asperity':12.42}\ndp4={'no':100,'maxtemp':58,'mintemp':48,'maxvibration':3542,'asperity':13.43}\ndef predict_asperity(dp):\n    if dp['maxvibration']>100:\n        return 13\n    else:\n        return 0.33\n    \npredict_asperity(dp3)"
        }
    ], 
    "metadata": {
        "kernelspec": {
            "display_name": "Python 3.5 with Spark 2.1", 
            "name": "python3-spark21", 
            "language": "python"
        }, 
        "language_info": {
            "mimetype": "text/x-python", 
            "nbconvert_exporter": "python", 
            "version": "3.5.4", 
            "name": "python", 
            "file_extension": ".py", 
            "pygments_lexer": "ipython3", 
            "codemirror_mode": {
                "version": 3, 
                "name": "ipython"
            }
        }
    }, 
    "nbformat": 4
}
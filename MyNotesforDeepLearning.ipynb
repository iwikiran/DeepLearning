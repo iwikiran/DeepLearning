{
    "nbformat_minor": 1, 
    "cells": [
        {
            "execution_count": 51, 
            "cell_type": "code", 
            "metadata": {}, 
            "outputs": [
                {
                    "execution_count": 51, 
                    "metadata": {}, 
                    "data": {
                        "text/plain": "0.33484173505275494"
                    }, 
                    "output_type": "execute_result"
                }
            ], 
            "source": "dp1={'no':100,'maxtemp':35,'mintemp':35,'maxvibration':12, 'asperity':0.32}\ndp2={'no':100,'maxtemp':46,'mintemp':35,'maxvibration':21, 'asperity':0.34}\ndp3={'no':100,'maxtemp':56,'mintemp':46,'maxvibration':3412,'asperity':12.42}\ndp4={'no':100,'maxtemp':58,'mintemp':48,'maxvibration':3542,'asperity':13.43}\nc=0.29; # C is nothing but constant in y=mx+c\nm1=0;   # m1,m2,m3 are different slopes for maxtemp,mintemp,maxvibration respectively..\nm2=0;\nm3=12.75/3412;\ndef predict_asperity(dp):\n    return c+m1*dp['maxtemp']+m2*dp['mintemp']+m3*dp['maxvibration']\n    \npredict_asperity(dp1)"
        }
    ], 
    "metadata": {
        "kernelspec": {
            "display_name": "Python 3.5 with Spark 2.1", 
            "name": "python3-spark21", 
            "language": "python"
        }, 
        "language_info": {
            "mimetype": "text/x-python", 
            "nbconvert_exporter": "python", 
            "version": "3.5.4", 
            "name": "python", 
            "file_extension": ".py", 
            "pygments_lexer": "ipython3", 
            "codemirror_mode": {
                "version": 3, 
                "name": "ipython"
            }
        }
    }, 
    "nbformat": 4
}
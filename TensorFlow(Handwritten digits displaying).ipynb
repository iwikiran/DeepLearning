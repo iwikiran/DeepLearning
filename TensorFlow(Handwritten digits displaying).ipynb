{
    "nbformat_minor": 1, 
    "cells": [
        {
            "execution_count": 3, 
            "cell_type": "code", 
            "metadata": {}, 
            "outputs": [
                {
                    "output_type": "stream", 
                    "name": "stdout", 
                    "text": "Extracting MNIST_data/train-images-idx3-ubyte.gz\nExtracting MNIST_data/train-labels-idx1-ubyte.gz\nExtracting MNIST_data/t10k-images-idx3-ubyte.gz\nExtracting MNIST_data/t10k-labels-idx1-ubyte.gz\n"
                }, 
                {
                    "execution_count": 3, 
                    "metadata": {}, 
                    "data": {
                        "text/plain": "<matplotlib.image.AxesImage at 0x7fcead786518>"
                    }, 
                    "output_type": "execute_result"
                }, 
                {
                    "output_type": "display_data", 
                    "data": {
                        "image/png": "[encoded data removed]", 
                        "text/plain": "<matplotlib.figure.Figure at 0x7fceb7ca9588>"
                    }, 
                    "metadata": {}
                }
            ], 
            "source": "from tensorflow.examples.tutorials.mnist import input_data  \nmnist=input_data.read_data_sets(\"MNIST_data/\",one_hot=True) # Tensor flow has large number of datasets in mnist database & we have choosen handwriteen digits data\nimport tensorflow as tf \n%matplotlib inline\nimport matplotlib.pyplot as plt  # it is to draw the image which has been downloaded from mnist database  \nbatch_xs,batch_ys=mnist.train.next_batch(1) # here we accessed first image out of 55,000 images but as we call every time next batch we obtain new image\n# images in the mnist dataset are 28 * 28 pixels but the batch-xs is of 784 pixels \nX=batch_xs\nX=X.reshape([28,28]) # we are reshaping 784 pixels vector as 28*28 matrcie\nplt.gray()\nplt.imshow(X) "
        }
    ], 
    "metadata": {
        "kernelspec": {
            "display_name": "Python 3.5 with Spark 2.1", 
            "name": "python3-spark21", 
            "language": "python"
        }, 
        "language_info": {
            "mimetype": "text/x-python", 
            "nbconvert_exporter": "python", 
            "version": "3.5.4", 
            "name": "python", 
            "file_extension": ".py", 
            "pygments_lexer": "ipython3", 
            "codemirror_mode": {
                "version": 3, 
                "name": "ipython"
            }
        }
    }, 
    "nbformat": 4
}